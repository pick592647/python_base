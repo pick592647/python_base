{
 "cells": [
  {
   "cell_type": "markdown",
   "metadata": {},
   "source": [
    "## python入门\n",
    "python 是一种跨平台的计算机程序设计语言，是一个高层次的结合了解释性、编译性、互动性和面向对象的脚本语言。\n",
    "安装python、运行python程序、添加环境变量就不做细致介绍了。\n",
    "### 第一个python程序\n",
    "先看第一个示例："
   ]
  },
  {
   "cell_type": "code",
   "execution_count": 3,
   "metadata": {},
   "outputs": [
    {
     "name": "stdout",
     "output_type": "stream",
     "text": [
      "hello world!\n"
     ]
    }
   ],
   "source": [
    "print(\"hello world!\")"
   ]
  },
  {
   "cell_type": "markdown",
   "source": [
    "### 缩进\n",
    "缩进是指缩进是指调整文本与页面边界之间的距离。代码的缩进一般用在函数定义、类的定义以及一些控制语句中，\n",
    "一般来说在行尾使用 **“；” **代表下一行代码缩进的开始。通过缩进分层的结构会十分清晰。"
   ],
   "metadata": {
    "collapsed": false
   }
  },
  {
   "cell_type": "markdown",
   "source": [
    "示例："
   ],
   "metadata": {
    "collapsed": false
   }
  },
  {
   "cell_type": "code",
   "execution_count": 4,
   "outputs": [
    {
     "name": "stdout",
     "output_type": "stream",
     "text": [
      "hello\n"
     ]
    }
   ],
   "source": [
    "if True:\n",
    "    print(\"hello\")\n",
    "else:\n",
    "    print(\"world\")\n",
    "    print(\"haha\")"
   ],
   "metadata": {
    "collapsed": false
   }
  },
  {
   "cell_type": "markdown",
   "source": [
    "### 注释\n",
    "注释是用来帮忙说明代码作用的，编译器会忽略所有的注释。Python中注释分为单行注释和多行注释两种。"
   ],
   "metadata": {
    "collapsed": false
   }
  },
  {
   "cell_type": "markdown",
   "source": [
    "#### 单行注释\n",
    "单行注释是只显示一行的注释内容，以 '#' 开头，其后一行的内容都属于注释。具体如下："
   ],
   "metadata": {
    "collapsed": false
   }
  },
  {
   "cell_type": "code",
   "execution_count": 5,
   "outputs": [
    {
     "name": "stdout",
     "output_type": "stream",
     "text": [
      "hello\n"
     ]
    }
   ],
   "source": [
    "#print(\"hello\")\n",
    "print(\"hello\")"
   ],
   "metadata": {
    "collapsed": false
   }
  },
  {
   "cell_type": "markdown",
   "source": [
    "#### 多行注释\n",
    "多行注释是从C语言处继承过来的，顾名思义，就是可以显示多行的注释内容。\n",
    "多行注释有两种方法分别是” ``` \"和“ ”“” “。具体如下："
   ],
   "metadata": {
    "collapsed": false
   }
  },
  {
   "cell_type": "code",
   "execution_count": 6,
   "outputs": [
    {
     "name": "stdout",
     "output_type": "stream",
     "text": [
      "3\n"
     ]
    },
    {
     "data": {
      "text/plain": "'\\nprint(\"4\")\\nprint(\"5\")\\n'"
     },
     "execution_count": 6,
     "metadata": {},
     "output_type": "execute_result"
    }
   ],
   "source": [
    "'''\n",
    "print(\"1\")\n",
    "print(\"2\")\n",
    "'''\n",
    "print(\"3\")\n",
    "\"\"\"\n",
    "print(\"4\")\n",
    "print(\"5\")\n",
    "\"\"\""
   ],
   "metadata": {
    "collapsed": false
   }
  },
  {
   "cell_type": "markdown",
   "source": [
    "好的注释可以提高代码的可读性，可以让其它人更快明白编写者的意思。"
   ],
   "metadata": {
    "collapsed": false
   }
  },
  {
   "cell_type": "markdown",
   "source": [
    "#### 标识符和关键字\n",
    "标识符和关键字都是具有特定含义的称谓的字符，如同人的外号一样。\n",
    "- 标识符\n",
    "代码中的分号，引号之类的属于标识符；Python中的标识符规则和C语言类似。\n",
    "        - 第一个字符必须是字母表中字母或下划线(_)\n",
    "        - 标识符的其他的部分由字母、数字和下划线组成\n",
    "        - 标识符对大小写敏感。\n",
    "- 关键字\n",
    "关键字是Python系统保留的标识符；我们不能使用他们用作标识符名称。Python的标准库提供了一个Keyword模块，可以输出当前版本的所有关键字；如下："
   ],
   "metadata": {
    "collapsed": false
   }
  },
  {
   "cell_type": "code",
   "execution_count": 1,
   "outputs": [
    {
     "data": {
      "text/plain": "['False',\n 'None',\n 'True',\n 'and',\n 'as',\n 'assert',\n 'async',\n 'await',\n 'break',\n 'class',\n 'continue',\n 'def',\n 'del',\n 'elif',\n 'else',\n 'except',\n 'finally',\n 'for',\n 'from',\n 'global',\n 'if',\n 'import',\n 'in',\n 'is',\n 'lambda',\n 'nonlocal',\n 'not',\n 'or',\n 'pass',\n 'raise',\n 'return',\n 'try',\n 'while',\n 'with',\n 'yield']"
     },
     "execution_count": 1,
     "metadata": {},
     "output_type": "execute_result"
    }
   ],
   "source": [
    "import keyword #引出关键字库\n",
    "keyword.kwlist #列出关键字"
   ],
   "metadata": {
    "collapsed": false
   }
  },
  {
   "cell_type": "markdown",
   "source": [
    "### 变量的输入和输出\n",
    "Python基础语法的最后一项内容，学习Python的变量的输入和输出。之后我们就开始简单数据类型的学习。"
   ],
   "metadata": {
    "collapsed": false
   }
  },
  {
   "cell_type": "markdown",
   "source": [
    "#### 变量\n",
    "变量就是其值会发生变化的量，与之相对的不会变化的叫做常量。因为Python没有类似C/C++的const修饰符，所以说Python中没有常量。\n",
    "Python中变量不需要声明，变量的赋值操作就算定义的过程。\n",
    "示例：\n"
   ],
   "metadata": {
    "collapsed": false
   }
  },
  {
   "cell_type": "code",
   "execution_count": 2,
   "outputs": [
    {
     "name": "stdout",
     "output_type": "stream",
     "text": [
      "1\n",
      "hello\n"
     ]
    }
   ],
   "source": [
    "x = 1\n",
    "print(x)\n",
    "x = \"hello\"\n",
    "print(x)"
   ],
   "metadata": {
    "collapsed": false
   }
  },
  {
   "cell_type": "markdown",
   "source": [
    "#### 输入与输出\n",
    "对于程序来说，输入与输出是用户与程序交互的主要手段，Python也不例外。\n",
    "##### 输入\n",
    "想要在python中实现输入功能，就需要调用内置函数\"input()\"来实现，语法如下：\n"
   ],
   "metadata": {
    "collapsed": false
   }
  },
  {
   "cell_type": "code",
   "execution_count": 3,
   "outputs": [
    {
     "ename": "NameError",
     "evalue": "name 'prompt' is not defined",
     "output_type": "error",
     "traceback": [
      "\u001B[1;31m---------------------------------------------------------------------------\u001B[0m",
      "\u001B[1;31mNameError\u001B[0m                                 Traceback (most recent call last)",
      "\u001B[1;32m<ipython-input-3-2b567fd09379>\u001B[0m in \u001B[0;36m<module>\u001B[1;34m\u001B[0m\n\u001B[1;32m----> 1\u001B[1;33m \u001B[0minput\u001B[0m\u001B[1;33m(\u001B[0m\u001B[1;33m[\u001B[0m\u001B[0mprompt\u001B[0m\u001B[1;33m]\u001B[0m\u001B[1;33m)\u001B[0m\u001B[1;33m\u001B[0m\u001B[1;33m\u001B[0m\u001B[0m\n\u001B[0m",
      "\u001B[1;31mNameError\u001B[0m: name 'prompt' is not defined"
     ]
    }
   ],
   "source": [
    "input([prompt])"
   ],
   "metadata": {
    "collapsed": false
   }
  },
  {
   "cell_type": "markdown",
   "source": [
    "其中\"prompt\"用来提供用户输入的提示信息字符串。input不论输入的是什么，返回的都是字符串。\n"
   ],
   "metadata": {
    "collapsed": false
   }
  },
  {
   "cell_type": "markdown",
   "source": [
    "##### 输出\n",
    "输出是显示执行结果，Python中的\"print()\"实现，语法如下：\n",
    "```\n",
    "print(value,...,sep='',end='\\n')\n",
    "```\n",
    "其中参数解释：\n",
    "- value代表要输出的信息，省略号表示可以有多个\n",
    "- sep表示多个要输出信息之间的分隔符，默认是空格\n",
    "- end表示一个print()后添加的字符，默认是换行\n",
    "输入和输出的具体示例如下："
   ],
   "metadata": {
    "collapsed": false
   }
  },
  {
   "cell_type": "code",
   "execution_count": 4,
   "outputs": [
    {
     "name": "stdout",
     "output_type": "stream",
     "text": [
      "小明\n"
     ]
    }
   ],
   "source": [
    "name = input('你的名字：')\n",
    "print(name)"
   ],
   "metadata": {
    "collapsed": false
   }
  },
  {
   "cell_type": "markdown",
   "source": [
    "### Python的字符串类型\n",
    "下面学习Python的数据类型。注意：这里所说的数据类型不是指变量的数据类型，而是值变量内存中对象的类型。\n",
    "Python中基本的数据类型有Number(数字),String(字符串)，List(列表)，Tuple(元组)，Dictionar(字典)这五种，我们详细介绍其中的Number(数字)和String(字符串)."
   ],
   "metadata": {
    "collapsed": false
   }
  },
  {
   "cell_type": "markdown",
   "source": [
    "#### 字符串\n",
    "字符串类型\"str\"应该是Python种最常用的数据类型了，字符串用单引号‘或双引号\"甚至和\"\"\"来创建，创建过程简单，赋值即可。\n",
    "示例："
   ],
   "metadata": {
    "collapsed": false
   }
  },
  {
   "cell_type": "code",
   "execution_count": 5,
   "outputs": [
    {
     "name": "stdout",
     "output_type": "stream",
     "text": [
      "Hello\n",
      "World\n"
     ]
    }
   ],
   "source": [
    "var0 = 'Hello'\n",
    "var1 = \"World\"\n",
    "print(var0)\n",
    "print(var1)"
   ],
   "metadata": {
    "collapsed": false
   }
  },
  {
   "cell_type": "markdown",
   "source": [
    "Python程序中字符串可以通过序号(从0开始)来取出其中的特定字符。示例："
   ],
   "metadata": {
    "collapsed": false
   }
  },
  {
   "cell_type": "code",
   "execution_count": 6,
   "outputs": [
    {
     "name": "stdout",
     "output_type": "stream",
     "text": [
      "H\n",
      "Hel\n"
     ]
    }
   ],
   "source": [
    "var0 = 'Hello World'\n",
    "print(var0[0]) # 截取第一个字符 'H'\n",
    "print(var0[0:3])# 截取第1-3个字符 \"Hel\"\n"
   ],
   "metadata": {
    "collapsed": false
   }
  },
  {
   "cell_type": "markdown",
   "source": [
    "通过截取可以获得部分字符串，我们可以通过这个来修饰字符串"
   ],
   "metadata": {
    "collapsed": false
   }
  },
  {
   "cell_type": "code",
   "execution_count": 7,
   "outputs": [
    {
     "name": "stdout",
     "output_type": "stream",
     "text": [
      "Hello dlrow\n"
     ]
    }
   ],
   "source": [
    "var0 = 'Hello World'\n",
    "print(var0[0:6]+'dlrow')"
   ],
   "metadata": {
    "collapsed": false
   }
  },
  {
   "cell_type": "markdown",
   "source": [
    "Python中如果要在字符里面使用特殊字符时，需要用到反斜杠\"\\\"来表示转义。以下是部分Python的常用转义符\n",
    "<img src=\"E:\\Vacation\\python\\images\\转义字符.png\"/>"
   ],
   "metadata": {
    "collapsed": false
   }
  },
  {
   "cell_type": "markdown",
   "source": [
    "如果不想让转义生效，在前面加一个r即可；\n",
    "部分转义字符的实现如下："
   ],
   "metadata": {
    "collapsed": false
   }
  },
  {
   "cell_type": "code",
   "execution_count": 8,
   "outputs": [
    {
     "name": "stdout",
     "output_type": "stream",
     "text": [
      "Hello\n",
      "World\n",
      "Hello'World'\n",
      "\\'Hello\\'\n"
     ]
    }
   ],
   "source": [
    "print(\"Hello\\nWorld\")\n",
    "print(\"Hello\\'World\\'\")\n",
    "print(r\"\\'Hello\\'\")"
   ],
   "metadata": {
    "collapsed": false
   }
  },
  {
   "cell_type": "markdown",
   "source": [
    "#### list 和 tuple\n",
    "1、python中的列表list是变量，而元组tuple是常量。简单地说元组是固定不可改变的，意味着一旦被创建它的内容无法被修改；列表则不同，被创建可根据自己的想法随意改变，同时改变列表的函数方法也很多。\n",
    "2、列表：是使用方括号[]\n",
    "3、元组：则是使用圆括号()\n",
    "不过两者都可以使用索引读取值"
   ],
   "metadata": {
    "collapsed": false
   }
  },
  {
   "cell_type": "code",
   "execution_count": 9,
   "outputs": [
    {
     "name": "stdout",
     "output_type": "stream",
     "text": [
      "[30, 10, 3, 4, 5]\n"
     ]
    }
   ],
   "source": [
    "# 1、根据索引修改\n",
    "my_list = [1,2,3,4,5]\n",
    "my_list[1] = 10\n",
    "my_list[0] = my_list[1]*my_list[2]\n",
    "print(my_list)"
   ],
   "metadata": {
    "collapsed": false
   }
  },
  {
   "cell_type": "markdown",
   "source": [
    "列表中的append() 和 extend()"
   ],
   "metadata": {
    "collapsed": false
   }
  },
  {
   "cell_type": "code",
   "execution_count": 2,
   "outputs": [
    {
     "name": "stdout",
     "output_type": "stream",
     "text": [
      "[1, 2, 3, 4, 5, [100, 90]]\n",
      "[1, 2, 3, 4, 5, 100, 90]\n"
     ]
    }
   ],
   "source": [
    "#两者都是向列表中增加元素的方法，都不支持多参数\n",
    "#但是append()向列表中添加一个整体的对象，extend()是把一个可迭代对象的内容迭代添加到列表中\n",
    "\n",
    "my_list = [1,2,3,4,5]\n",
    "my_list2 = [1,2,3,4,5]\n",
    "temp = [100,90]\n",
    "my_list.append(temp)\n",
    "my_list2.extend(temp)#temp是一个单元素列表，是一个可迭代对象，迭代出10 添加\n",
    "print(my_list)\n",
    "print(my_list2)"
   ],
   "metadata": {
    "collapsed": false
   }
  },
  {
   "cell_type": "code",
   "execution_count": 3,
   "outputs": [
    {
     "name": "stdout",
     "output_type": "stream",
     "text": [
      "None\n",
      "[1, 3, 2, 4, 5]\n",
      "3\n",
      "5\n",
      "[1, 2, 2, 4, 5]\n",
      "[2, 4, 5]\n"
     ]
    },
    {
     "ename": "NameError",
     "evalue": "name 'my_list3' is not defined",
     "output_type": "error",
     "traceback": [
      "\u001B[1;31m---------------------------------------------------------------------------\u001B[0m",
      "\u001B[1;31mNameError\u001B[0m                                 Traceback (most recent call last)",
      "\u001B[1;32m<ipython-input-3-338ff357e912>\u001B[0m in \u001B[0;36m<module>\u001B[1;34m\u001B[0m\n\u001B[0;32m     18\u001B[0m \u001B[0mprint\u001B[0m\u001B[1;33m(\u001B[0m\u001B[0mmy_list3\u001B[0m\u001B[1;33m)\u001B[0m\u001B[1;33m\u001B[0m\u001B[1;33m\u001B[0m\u001B[0m\n\u001B[0;32m     19\u001B[0m \u001B[1;32mdel\u001B[0m \u001B[0mmy_list3\u001B[0m\u001B[1;33m\u001B[0m\u001B[1;33m\u001B[0m\u001B[0m\n\u001B[1;32m---> 20\u001B[1;33m \u001B[0mprint\u001B[0m\u001B[1;33m(\u001B[0m\u001B[0mmy_list3\u001B[0m\u001B[1;33m)\u001B[0m\u001B[1;33m\u001B[0m\u001B[1;33m\u001B[0m\u001B[0m\n\u001B[0m",
      "\u001B[1;31mNameError\u001B[0m: name 'my_list3' is not defined"
     ]
    }
   ],
   "source": [
    "# remove: 删除单个元素，删除首个符合条件的元素，按值删除，返回值为空\n",
    "# pop：删除索引位置的元素，无参数情况下删除最后一个元素，返回删除的元素值\n",
    "# del：简单粗暴，可传索引参数删除符合条件的元素，也可不按参数整个删除\n",
    "\n",
    "my_list = [1,2,3,2,4,5]\n",
    "my_list2 = [1,2,3,2,4,5]\n",
    "my_list3 = [1,2,3,2,4,5]\n",
    "\n",
    "print(my_list.remove(2))# 删除第一个2\n",
    "print(my_list)\n",
    "\n",
    "print(my_list2.pop(2)) #删除索引值为2的元素3\n",
    "print(my_list2.pop()) #删除最后一个元素5\n",
    "\n",
    "del my_list3[2]\n",
    "print(my_list3)\n",
    "del my_list3[0:2]\n",
    "print(my_list3)\n",
    "del my_list3\n",
    "print(my_list3)\n"
   ],
   "metadata": {
    "collapsed": false
   }
  },
  {
   "cell_type": "markdown",
   "source": [
    "### 元组tuple\n",
    "#### 1.创建元组\n"
   ],
   "metadata": {
    "collapsed": false
   }
  },
  {
   "cell_type": "code",
   "execution_count": 4,
   "outputs": [],
   "source": [
    "my_tup = ()\n",
    "my_tup = (100) # 不可如此创建，这么写会被理解程 int\n",
    "my_tup = (100,)"
   ],
   "metadata": {
    "collapsed": false
   }
  },
  {
   "cell_type": "markdown",
   "source": [
    "#### \"修改\"元组\n",
    "元组中的元素值是 不允许修改 的，但我们可以对元组进行连接组合--\"创建一个新的元组\""
   ],
   "metadata": {
    "collapsed": false
   }
  },
  {
   "cell_type": "code",
   "execution_count": 5,
   "outputs": [
    {
     "name": "stdout",
     "output_type": "stream",
     "text": [
      "('a', 'b', 'c', 1, 2, 3)\n"
     ]
    }
   ],
   "source": [
    "my_tup = (1,2,3)\n",
    "my_tup2 = ('a','b','c')\n",
    "my_tup3 = my_tup2 + my_tup\n",
    "print(my_tup3)"
   ],
   "metadata": {
    "collapsed": false
   }
  },
  {
   "cell_type": "markdown",
   "source": [
    "#### \"删除\"元组\n",
    "元组中的元素值是 不允许删除 的，但我们可以使用del语句来删除整个元组"
   ],
   "metadata": {
    "collapsed": false
   }
  },
  {
   "cell_type": "code",
   "execution_count": 6,
   "outputs": [
    {
     "name": "stdout",
     "output_type": "stream",
     "text": [
      "(1, 2, 3, 'a', 'b', 'c')\n"
     ]
    },
    {
     "ename": "NameError",
     "evalue": "name 'my_tup' is not defined",
     "output_type": "error",
     "traceback": [
      "\u001B[1;31m---------------------------------------------------------------------------\u001B[0m",
      "\u001B[1;31mNameError\u001B[0m                                 Traceback (most recent call last)",
      "\u001B[1;32m<ipython-input-6-bb410e7a8671>\u001B[0m in \u001B[0;36m<module>\u001B[1;34m\u001B[0m\n\u001B[0;32m      2\u001B[0m \u001B[0mprint\u001B[0m\u001B[1;33m(\u001B[0m\u001B[0mmy_tup\u001B[0m\u001B[1;33m)\u001B[0m\u001B[1;33m\u001B[0m\u001B[1;33m\u001B[0m\u001B[0m\n\u001B[0;32m      3\u001B[0m \u001B[1;32mdel\u001B[0m \u001B[0mmy_tup\u001B[0m\u001B[1;33m\u001B[0m\u001B[1;33m\u001B[0m\u001B[0m\n\u001B[1;32m----> 4\u001B[1;33m \u001B[0mprint\u001B[0m\u001B[1;33m(\u001B[0m\u001B[1;34m\"del操作后的my_tup:\"\u001B[0m\u001B[1;33m,\u001B[0m\u001B[0mmy_tup\u001B[0m\u001B[1;33m)\u001B[0m\u001B[1;33m\u001B[0m\u001B[1;33m\u001B[0m\u001B[0m\n\u001B[0m",
      "\u001B[1;31mNameError\u001B[0m: name 'my_tup' is not defined"
     ]
    }
   ],
   "source": [
    "my_tup = (1,2,3,'a','b','c')\n",
    "print(my_tup)\n",
    "del my_tup\n",
    "print(\"del操作后的my_tup:\",my_tup)\n"
   ],
   "metadata": {
    "collapsed": false
   }
  },
  {
   "cell_type": "markdown",
   "source": [
    "### Python 的数据类型\n",
    "Python 程序中数字类型Number用来存储数值，Python3开始只支持int,float,bool,complex这几种类型，删除了Python2中的long型。下面具体介绍python3中的那四种数据类型。\n"
   ],
   "metadata": {
    "collapsed": false
   }
  },
  {
   "cell_type": "markdown",
   "source": [
    "#### 整形(int)\n",
    "整型(int)就是整数，不含有小数点。Python中还可以用0+\"进制标准\"+数字代表不同进制的数。\n",
    "例如：\n",
    "- 0+o/O+数字 为八进制\n",
    "- 0+x/X+数字 为十六进制\n",
    "- 0+b/B+数字 为二进制\n",
    "- 不带进制符即为十进制\n",
    "下面演示整形相关的数学运算"
   ],
   "metadata": {
    "collapsed": false
   }
  },
  {
   "cell_type": "code",
   "execution_count": 8,
   "outputs": [
    {
     "name": "stdout",
     "output_type": "stream",
     "text": [
      "2\n",
      "1\n",
      "0.5\n",
      "6\n",
      "0\n",
      "1\n",
      "4\n"
     ]
    }
   ],
   "source": [
    "print(1+1)\n",
    "print(2-1)\n",
    "print(2/4)\n",
    "print(2*3)\n",
    "print(2//4)\n",
    "print(3%2)\n",
    "print(2**2)"
   ],
   "metadata": {
    "collapsed": false
   }
  },
  {
   "cell_type": "markdown",
   "source": [
    "#### 浮点型(float)\n",
    "浮点型为整数与小数部分结合组成，如12.5就是一个浮点型数。浮点型也可以用科学计数法来表示，如125=1.25e2。\n",
    "整数和浮点数在计算内部的存储方式不同，整数的运算是绝对精确的，但是浮点数的运算可能有四舍五入的误差。\n"
   ],
   "metadata": {
    "collapsed": false
   }
  },
  {
   "cell_type": "markdown",
   "source": [
    "#### 布尔型(Boolean)\n",
    "布尔型和上面两种类型比有点不同，他是一种表示逻辑值的简单类型，即对与错，是与非这种逻辑关系。布尔型的值也可能是真或假两个中的一个。在python中，布尔型的取值只有True和False两个，用来表示逻辑上的真与假。\n"
   ],
   "metadata": {
    "collapsed": false
   }
  },
  {
   "cell_type": "markdown",
   "source": [
    "#### 复数型(complex)\n",
    "复数型(complex)由实数部分和虚数部分组成，可由complex(a,b)或者a+bj表示。其实实部a和虚部b都是浮点型。"
   ],
   "metadata": {
    "collapsed": false
   }
  },
  {
   "cell_type": "markdown",
   "source": [
    "### 字典\n",
    "#### 字典简介\n",
    "字典是一种可变容器模型，且可存储任意类型对象。\n",
    "字典的每个键值(key=>value)对用冒号(:)分隔，每个对之前用逗号(,)分割，整个字典包括在花括号({})中，格式如下：\n",
    "```\n",
    "d = {key1:value1,key2:value2}\n",
    "```\n",
    "键必须是唯一的，但值则不变。\n",
    "值可以取任何整数类型，但键必须是不可变的，如字符串，数字或者元组。\n",
    "创建字典实例："
   ],
   "metadata": {
    "collapsed": false
   }
  },
  {
   "cell_type": "code",
   "execution_count": 9,
   "outputs": [],
   "source": [
    "dict = {'小明':'123','小红':'456'}"
   ],
   "metadata": {
    "collapsed": false
   }
  },
  {
   "cell_type": "markdown",
   "source": [
    "或者\n"
   ],
   "metadata": {
    "collapsed": false
   }
  },
  {
   "cell_type": "code",
   "execution_count": 10,
   "outputs": [],
   "source": [
    "dict1 = {'小明':'123'}\n",
    "dict2 = {'小红':'456'}"
   ],
   "metadata": {
    "collapsed": false
   }
  },
  {
   "cell_type": "code",
   "execution_count": 1,
   "outputs": [
    {
     "name": "stdout",
     "output_type": "stream",
     "text": [
      "dict['Name']: Runoob\n",
      "dict['Age']: 7\n"
     ]
    }
   ],
   "source": [
    "dict = {'Name': 'Runoob','Age':7,'Class':'First'}\n",
    "print(\"dict['Name']:\",dict['Name'])\n",
    "print(\"dict['Age']:\",dict['Age'])"
   ],
   "metadata": {
    "collapsed": false
   }
  },
  {
   "cell_type": "markdown",
   "source": [
    "#### 修改字典\n"
   ],
   "metadata": {
    "collapsed": false
   }
  },
  {
   "cell_type": "code",
   "execution_count": 2,
   "outputs": [
    {
     "name": "stdout",
     "output_type": "stream",
     "text": [
      "dict[Age]: 8\n",
      "dict['Sex']: man\n"
     ]
    }
   ],
   "source": [
    "dict = {'Name':'Runoob','Age':7,'class':'First'}\n",
    "\n",
    "dict['Age'] = 8 #更新Age\n",
    "dict['Sex'] = \"man\" # 添加信息\n",
    "print(\"dict[Age]:\",dict['Age'])\n",
    "print(\"dict['Sex']:\",dict['Sex'])"
   ],
   "metadata": {
    "collapsed": false
   }
  },
  {
   "cell_type": "markdown",
   "source": [
    "#### 清空字典"
   ],
   "metadata": {
    "collapsed": false
   }
  },
  {
   "cell_type": "code",
   "execution_count": 3,
   "outputs": [
    {
     "name": "stdout",
     "output_type": "stream",
     "text": [
      "字典长度：4\n",
      "清空后字典的长度：0\n"
     ]
    }
   ],
   "source": [
    "dict = {'Name':'Runoob','Age':7,'Class':'First'}\n",
    "dict['Age'] = 8\n",
    "dict['Sex'] = \"man\"\n",
    "\n",
    "print(\"字典长度：%d\"% len(dict))\n",
    "dict.clear()\n",
    "print(\"清空后字典的长度：%d\"%len(dict))"
   ],
   "metadata": {
    "collapsed": false
   }
  },
  {
   "cell_type": "markdown",
   "source": [
    "### 键的特性\n",
    "- 1.不允许同一个键出现两次。创建时如果同一个键被赋值两次，后一个值会被记住。\n",
    "- 2.键必须不可变，所以可以用数字，字符串或者元组充当，而且列表就不行。\n",
    "第二特性实例："
   ],
   "metadata": {
    "collapsed": false
   }
  },
  {
   "cell_type": "code",
   "execution_count": 4,
   "outputs": [
    {
     "ename": "TypeError",
     "evalue": "unhashable type: 'list'",
     "output_type": "error",
     "traceback": [
      "\u001B[1;31m---------------------------------------------------------------------------\u001B[0m",
      "\u001B[1;31mTypeError\u001B[0m                                 Traceback (most recent call last)",
      "\u001B[1;32m<ipython-input-4-c5547873990a>\u001B[0m in \u001B[0;36m<module>\u001B[1;34m\u001B[0m\n\u001B[1;32m----> 1\u001B[1;33m \u001B[0mdict\u001B[0m \u001B[1;33m=\u001B[0m \u001B[1;33m{\u001B[0m\u001B[1;33m[\u001B[0m\u001B[1;34m'Name'\u001B[0m\u001B[1;33m]\u001B[0m\u001B[1;33m:\u001B[0m\u001B[1;34m'Runoob'\u001B[0m\u001B[1;33m,\u001B[0m\u001B[1;34m'Age'\u001B[0m\u001B[1;33m:\u001B[0m\u001B[1;36m7\u001B[0m\u001B[1;33m}\u001B[0m\u001B[1;33m\u001B[0m\u001B[1;33m\u001B[0m\u001B[0m\n\u001B[0m\u001B[0;32m      2\u001B[0m \u001B[1;33m\u001B[0m\u001B[0m\n\u001B[0;32m      3\u001B[0m \u001B[0mprint\u001B[0m\u001B[1;33m(\u001B[0m\u001B[1;34m\"dict['Name']:\"\u001B[0m\u001B[1;33m,\u001B[0m\u001B[0mdict\u001B[0m\u001B[1;33m[\u001B[0m\u001B[1;34m'Name'\u001B[0m\u001B[1;33m]\u001B[0m\u001B[1;33m)\u001B[0m\u001B[1;33m\u001B[0m\u001B[1;33m\u001B[0m\u001B[0m\n",
      "\u001B[1;31mTypeError\u001B[0m: unhashable type: 'list'"
     ]
    }
   ],
   "source": [
    "dict = {['Name']:'Runoob','Age':7}\n",
    "\n",
    "print(\"dict['Name']:\",dict['Name'])"
   ],
   "metadata": {
    "collapsed": false
   }
  },
  {
   "cell_type": "markdown",
   "source": [
    "#### 集合简介\n",
    "集合(set）是一个无序的不重复序列。\n",
    "可以使用大括号{}或者set()函数创建集合，注意：创建一个空的集合，要用set()函数而不能用{},因为用{}用来创建一个空字典。\n",
    "创建格式：\n"
   ],
   "metadata": {
    "collapsed": false
   }
  },
  {
   "cell_type": "markdown",
   "source": [
    "```\n",
    "parame = {value01,value02,...}\n",
    "或者\n",
    "set(value)\n",
    "```"
   ],
   "metadata": {
    "collapsed": false
   }
  },
  {
   "cell_type": "code",
   "execution_count": 6,
   "outputs": [
    {
     "name": "stdout",
     "output_type": "stream",
     "text": [
      "{'Mary', 'Tom', 'Jim', 'Jack'}\n",
      "True\n",
      "{'b', 'a', 'd', 'c'}\n",
      "{'b', 'a', 'c'}\n",
      "{'d'}\n",
      "{'b', 'a', 'c', 'd'}\n",
      "{'b', 'a', 'c'}\n",
      "{'d'}\n"
     ]
    }
   ],
   "source": [
    "student = {'Tom','Jim','Mary','Tom','Jack'} #创建集合\n",
    "print(student) #显示集合以及去重功能\n",
    "\n",
    "#判断Tom是否在集合中\n",
    "if('Tom' in student):\n",
    "    print('True')\n",
    "else :\n",
    "    print('false')\n",
    "\n",
    "#集合间的运算\n",
    " #创建集合\n",
    "a = set('abcd')\n",
    "b = set('abc')\n",
    "\n",
    "#输出集合\n",
    "print(a)\n",
    "print(b)\n",
    "print(a-b) #a b 的差集\n",
    "print(a|b) #a b 的并集\n",
    "print(a&b)#a b 的交集\n",
    "print(a^b) #a b 中不同时存在的元素"
   ],
   "metadata": {
    "collapsed": false
   }
  },
  {
   "cell_type": "markdown",
   "source": [
    "#### 添加元素\n",
    "语法格式如下："
   ],
   "metadata": {
    "collapsed": false
   }
  },
  {
   "cell_type": "markdown",
   "source": [
    "```\n",
    "s.add(x)\n",
    "```"
   ],
   "metadata": {
    "collapsed": false
   }
  },
  {
   "cell_type": "markdown",
   "source": [
    "将元素 x 添加到集合 s 中，如果元素已经存在，则不进行任何操作。\n",
    "代码实例："
   ],
   "metadata": {
    "collapsed": false
   }
  },
  {
   "cell_type": "code",
   "execution_count": 7,
   "outputs": [
    {
     "name": "stdout",
     "output_type": "stream",
     "text": [
      "{'Taobao', 'Google', 'Facebook', 'Baidu'}\n"
     ]
    }
   ],
   "source": [
    "thisset = set((\"Google\",\"Baidu\",\"Taobao\"))\n",
    "thisset.add(\"Facebook\")\n",
    "print(thisset)"
   ],
   "metadata": {
    "collapsed": false
   }
  },
  {
   "cell_type": "markdown",
   "source": [
    "还有一个方法，也可以添加元素，且参数可以是列表，元组，字典等，语法格式如下“\n",
    "```\n",
    "s.update(x)\n",
    "```\n",
    "x 可以有多个，用逗号分开。代码实例：\n"
   ],
   "metadata": {
    "collapsed": false
   }
  },
  {
   "cell_type": "code",
   "execution_count": 8,
   "outputs": [
    {
     "name": "stdout",
     "output_type": "stream",
     "text": [
      "{'Taobao', 1, 3, 'Google', 'Baidu'}\n",
      "{'Taobao', 1, 3, 'Google', 4, 5, 'Baidu'}\n"
     ]
    }
   ],
   "source": [
    "thisset = set((\"Google\",\"Baidu\",\"Taobao\"))\n",
    "thisset.update({1,3})\n",
    "print(thisset)\n",
    "\n",
    "thisset.update([1,4],[4,5])\n",
    "print(thisset)"
   ],
   "metadata": {
    "collapsed": false
   }
  },
  {
   "cell_type": "markdown",
   "source": [
    "#### 移除元素\n",
    "语法格式如下：\n",
    "```\n",
    "s.remove(x)\n",
    "```\n",
    "将元素 x 从集合 s 中移除，如果元素不存在，则会发生错误。"
   ],
   "metadata": {
    "collapsed": false
   }
  },
  {
   "cell_type": "code",
   "execution_count": 1,
   "outputs": [
    {
     "name": "stdout",
     "output_type": "stream",
     "text": [
      "{'Google', 'Baidu'}\n"
     ]
    },
    {
     "ename": "KeyError",
     "evalue": "'Facebook'",
     "output_type": "error",
     "traceback": [
      "\u001B[1;31m---------------------------------------------------------------------------\u001B[0m",
      "\u001B[1;31mKeyError\u001B[0m                                  Traceback (most recent call last)",
      "\u001B[1;32m<ipython-input-1-18857ea19160>\u001B[0m in \u001B[0;36m<module>\u001B[1;34m\u001B[0m\n\u001B[0;32m      3\u001B[0m \u001B[0mprint\u001B[0m\u001B[1;33m(\u001B[0m\u001B[0mthisset\u001B[0m\u001B[1;33m)\u001B[0m\u001B[1;33m\u001B[0m\u001B[1;33m\u001B[0m\u001B[0m\n\u001B[0;32m      4\u001B[0m \u001B[1;33m\u001B[0m\u001B[0m\n\u001B[1;32m----> 5\u001B[1;33m \u001B[0mthisset\u001B[0m\u001B[1;33m.\u001B[0m\u001B[0mremove\u001B[0m\u001B[1;33m(\u001B[0m\u001B[1;34m\"Facebook\"\u001B[0m\u001B[1;33m)\u001B[0m\u001B[1;33m\u001B[0m\u001B[1;33m\u001B[0m\u001B[0m\n\u001B[0m",
      "\u001B[1;31mKeyError\u001B[0m: 'Facebook'"
     ]
    }
   ],
   "source": [
    "thisset = set((\"Google\",\"Baidu\",\"Taobao\"))\n",
    "thisset.remove(\"Taobao\")\n",
    "print(thisset)\n",
    "\n",
    "thisset.remove(\"Facebook\")\n"
   ],
   "metadata": {
    "collapsed": false
   }
  },
  {
   "cell_type": "markdown",
   "source": [
    "此外还有一个方法也是移除集合中的元素，且如果元素不存在，不会发生错误。格式如下：\n",
    "```\n",
    "s.discard(x)\n",
    "```\n",
    "代码实例："
   ],
   "metadata": {
    "collapsed": false
   }
  },
  {
   "cell_type": "code",
   "execution_count": 2,
   "outputs": [
    {
     "name": "stdout",
     "output_type": "stream",
     "text": [
      "{'Taobao', 'Google', 'Baidu'}\n"
     ]
    }
   ],
   "source": [
    "thisset = set((\"Google\",\"Baidu\",\"Taobao\"))\n",
    "thisset.discard(\"Facebook\")\n",
    "print(thisset)"
   ],
   "metadata": {
    "collapsed": false
   }
  },
  {
   "cell_type": "markdown",
   "source": [
    "也可以设置随机删除集合中的一个元素，语法格式如下：\n",
    "```\n",
    "s.pop()\n",
    "```\n"
   ],
   "metadata": {
    "collapsed": false
   }
  },
  {
   "cell_type": "code",
   "execution_count": 4,
   "outputs": [
    {
     "name": "stdout",
     "output_type": "stream",
     "text": [
      "Facebook\n"
     ]
    }
   ],
   "source": [
    "thisset = set((\"Google\",\"Baidu\",\"Taobao\",\"Facebook\"))\n",
    "x = thisset.pop()\n",
    "print(x)"
   ],
   "metadata": {
    "collapsed": false
   }
  },
  {
   "cell_type": "markdown",
   "source": [
    "set集合的pop方法会对集合进行无序的排列，然后将这个无序排列的左面的第一个元素进行删除。\n"
   ],
   "metadata": {
    "collapsed": false
   }
  },
  {
   "cell_type": "markdown",
   "source": [
    "#### 清空集合\n",
    "语法格式如下：\n",
    "```\n",
    "s.clear()\n",
    "```\n",
    "代码实列\n"
   ],
   "metadata": {
    "collapsed": false
   }
  },
  {
   "cell_type": "code",
   "execution_count": 5,
   "outputs": [
    {
     "name": "stdout",
     "output_type": "stream",
     "text": [
      "set()\n"
     ]
    }
   ],
   "source": [
    "thisset = set((\"Google\",\"Baidu\",\"Taobao\"))\n",
    "thisset.clear()\n",
    "print(thisset)"
   ],
   "metadata": {
    "collapsed": false
   }
  },
  {
   "cell_type": "markdown",
   "source": [
    "#### 计算集合中的元素个数\n",
    "语法格式如下：\n",
    "```\n",
    "len(s)\n",
    "```\n",
    "计算集合 s 元素的个数。\n"
   ],
   "metadata": {
    "collapsed": false
   }
  },
  {
   "cell_type": "code",
   "execution_count": 6,
   "outputs": [
    {
     "name": "stdout",
     "output_type": "stream",
     "text": [
      "3\n"
     ]
    }
   ],
   "source": [
    "thisset = set((\"Google\",\"Baidu\",\"Taobao\"))\n",
    "x = len(thisset)\n",
    "print(x)"
   ],
   "metadata": {
    "collapsed": false
   }
  },
  {
   "cell_type": "markdown",
   "source": [
    "### 函数\n",
    "函数是组织好的，可重复使用的，用来实现单一，或相关联功能的代码段。\n",
    "在 python 程序中，使用函数之前需要先定义(声明)函数，然后才能调用它。之哟啊按函数定义的形式，向函数传递必须参数，就可以调用它完成相关功能并取得函数返回结果。"
   ],
   "metadata": {
    "collapsed": false
   }
  },
  {
   "cell_type": "markdown",
   "source": [
    "#### 定义函数\n",
    "定义函数的语法格式如下：\n",
    "```\n",
    "def<函数名>(参数列表)\n",
    "    <函数语句>\n",
    "    return 返回值 #此项不是必须的\n",
    "```\n",
    "默认情况下，参数值和参数名称是按函数声明中定义的顺序匹配起来的。\n",
    "代码实例如下：\n"
   ],
   "metadata": {
    "collapsed": false
   }
  },
  {
   "cell_type": "code",
   "execution_count": 7,
   "outputs": [
    {
     "name": "stdout",
     "output_type": "stream",
     "text": [
      "Hello World!\n"
     ]
    }
   ],
   "source": [
    "def hello():\n",
    "    print(\"Hello World!\")\n",
    "hello()"
   ],
   "metadata": {
    "collapsed": false
   }
  },
  {
   "cell_type": "markdown",
   "source": [
    "#### 函数的调用\n",
    "函数的调用就是使用函数，定义一个函数相当于给了函数一个名称，指定了函数里包含的参数，和代码块结构。\n",
    "这个函数的基本结构完成以后，你可以通过另一个函数调用执行，也可以直接从 Python 命令提示符执行。\n",
    "以下为函数调用的实例：\n",
    "\n"
   ],
   "metadata": {
    "collapsed": false
   }
  },
  {
   "cell_type": "code",
   "execution_count": 8,
   "outputs": [
    {
     "name": "stdout",
     "output_type": "stream",
     "text": [
      "Hello\n",
      "World\n"
     ]
    }
   ],
   "source": [
    "def printme( str ):\n",
    "    # 打印任何传入的字符串\n",
    "    print(str)\n",
    "    return\n",
    "\n",
    "# 调用函数\n",
    "printme(\"Hello\")\n",
    "printme(\"World\")"
   ],
   "metadata": {
    "collapsed": false
   }
  },
  {
   "cell_type": "markdown",
   "source": [
    "#### 函数的参数\n",
    "在 python 程序中，参数是函数的重要组成元素。在调用函数时，参数可以传递也可以不传递。还有一些情况，函数中的参数数量无法确定，下面会详细讲解函数的参数。\n",
    "\n"
   ],
   "metadata": {
    "collapsed": false
   }
  },
  {
   "cell_type": "markdown",
   "source": [
    "##### 形参和实参\n",
    "形参表示函数完成其工作所需的一项信息，实参是调用函数时传递给函数的信息\n",
    "以下时调用函数时可使用的正式参数类型：\n",
    "- 必需参数\n",
    "- 关键字参数\n",
    "- 默认参数\n",
    "- 不定长参数\n"
   ],
   "metadata": {
    "collapsed": false
   }
  },
  {
   "cell_type": "markdown",
   "source": [
    "\n",
    "###### 必须参数\n",
    "必须参数也叫做位置实参，须以正确的顺序传入函数。调用时的数量必须和声明时的一样。\n"
   ],
   "metadata": {
    "collapsed": false
   }
  },
  {
   "cell_type": "markdown",
   "source": [
    "下面实例调用printme()函数，你必须传入一个参数，不然会出现语法错误：\n"
   ],
   "metadata": {
    "collapsed": false
   }
  },
  {
   "cell_type": "code",
   "execution_count": 9,
   "outputs": [
    {
     "ename": "TypeError",
     "evalue": "printme() missing 1 required positional argument: 'str'",
     "output_type": "error",
     "traceback": [
      "\u001B[1;31m---------------------------------------------------------------------------\u001B[0m",
      "\u001B[1;31mTypeError\u001B[0m                                 Traceback (most recent call last)",
      "\u001B[1;32m<ipython-input-9-0310c651c1e6>\u001B[0m in \u001B[0;36m<module>\u001B[1;34m\u001B[0m\n\u001B[0;32m      6\u001B[0m \u001B[1;33m\u001B[0m\u001B[0m\n\u001B[0;32m      7\u001B[0m \u001B[1;31m# 调用printme 函数，不加参数报错\u001B[0m\u001B[1;33m\u001B[0m\u001B[1;33m\u001B[0m\u001B[1;33m\u001B[0m\u001B[0m\n\u001B[1;32m----> 8\u001B[1;33m \u001B[0mprintme\u001B[0m\u001B[1;33m(\u001B[0m\u001B[1;33m)\u001B[0m\u001B[1;33m\u001B[0m\u001B[1;33m\u001B[0m\u001B[0m\n\u001B[0m",
      "\u001B[1;31mTypeError\u001B[0m: printme() missing 1 required positional argument: 'str'"
     ]
    }
   ],
   "source": [
    "# 可写函数说明\n",
    "def printme( str ):\n",
    "    \"打印任何传入的字符串\"\n",
    "    print(str)\n",
    "    return\n",
    "\n",
    "# 调用printme 函数，不加参数报错\n",
    "printme()"
   ],
   "metadata": {
    "collapsed": false
   }
  },
  {
   "cell_type": "markdown",
   "source": [
    "###### 关键字参数\n",
    "关键字参数和函数调用关系紧密，函数调用使用关键字参数来确定传入的参数值。使用关键字参数允许函数调用时参数的顺序与声明时不一致，因为 Python 解释器能够用参数名匹配参数值。\n",
    "以下以实例在函数 printme() 调用时使用参数名：\n"
   ],
   "metadata": {
    "collapsed": false
   }
  },
  {
   "cell_type": "code",
   "execution_count": 10,
   "outputs": [
    {
     "name": "stdout",
     "output_type": "stream",
     "text": [
      "Hello World!\n"
     ]
    }
   ],
   "source": [
    "def printme( str ):\n",
    "    print( str )\n",
    "    return\n",
    "\n",
    "printme( str = \"Hello World!\")"
   ],
   "metadata": {
    "collapsed": false
   }
  },
  {
   "cell_type": "markdown",
   "source": [
    "以下实例中演示了函数参数的使用不需要使用指定顺序："
   ],
   "metadata": {
    "collapsed": false
   }
  },
  {
   "cell_type": "code",
   "execution_count": 11,
   "outputs": [
    {
     "name": "stdout",
     "output_type": "stream",
     "text": [
      "名字: Tom\n",
      "年龄: 50\n"
     ]
    }
   ],
   "source": [
    "def printinfo(name, age):\n",
    "    print(\"名字:\",name)\n",
    "    print(\"年龄:\",age)\n",
    "    return\n",
    "\n",
    "printinfo(age = 50, name = \"Tom\")"
   ],
   "metadata": {
    "collapsed": false
   }
  },
  {
   "cell_type": "markdown",
   "source": [
    "###### 默认参数\n",
    "调用函数时，如果没有传递参数，则会使用默认参数。以下实例中如果没有传入 age 参数，则会使用默认值："
   ],
   "metadata": {
    "collapsed": false
   }
  },
  {
   "cell_type": "code",
   "execution_count": 13,
   "outputs": [
    {
     "name": "stdout",
     "output_type": "stream",
     "text": [
      "名字： Tom\n",
      "年龄： 50\n",
      "-----------------\n",
      "名字： Google\n",
      "年龄： 35\n"
     ]
    }
   ],
   "source": [
    "def printinfo(name, age = 35):\n",
    "    print(\"名字：\",name)\n",
    "    print(\"年龄：\",age)\n",
    "    return\n",
    "\n",
    "printinfo(age = 50, name = \"Tom\")\n",
    "print(\"-----------------\")\n",
    "printinfo(name = \"Google\")"
   ],
   "metadata": {
    "collapsed": false
   }
  },
  {
   "cell_type": "markdown",
   "source": [
    "###### 不定长参数\n",
    "你可能需要一个函数能够处理比当初声明时更多的参数。这些参数叫做不定长参数，和上述两种参数不同，声明时不会命名。基本语法如下：\n",
    "```\n",
    "def functionname([formal_args,] *var_args_tuple ):\n",
    "    \"函数_文档字符串”\n",
    "    function_suite\n",
    "    return [expression]\n",
    "```\n",
    "加了星号 ***** 的参数会以元组 (tuple) 的形式导入，存放所有未命名的变量参数。\n"
   ],
   "metadata": {
    "collapsed": false
   }
  },
  {
   "cell_type": "code",
   "execution_count": 14,
   "outputs": [
    {
     "name": "stdout",
     "output_type": "stream",
     "text": [
      "输出：\n",
      "70\n",
      "(60, 50)\n"
     ]
    }
   ],
   "source": [
    "def printinfo(arg1, *vartuple):\n",
    "    print(\"输出：\")\n",
    "    print(arg1)\n",
    "    print(vartuple)\n",
    "\n",
    "printinfo(70,60,50)"
   ],
   "metadata": {
    "collapsed": false
   }
  },
  {
   "cell_type": "markdown",
   "source": [
    "##### 变量的作用域\n",
    "Python 程序中，变量的作用域是指变量的作用范围。\n",
    "python 程序中有三种作用域\n",
    "- 局部作用域：定义在函数内部的变量有一个局部作用域，表示只能声明它函数内部访问\n",
    "- 全局作用域：定义在函数外部的变量有全局作用域，表示可以在整个程序范围内访问\n",
    "- 内置作用域：python预先定义的作用域\n"
   ],
   "metadata": {
    "collapsed": false
   }
  },
  {
   "cell_type": "markdown",
   "source": [
    "每当执行一个python函数时，都会创建一个新的命名空间，这个新的命名空间时局部作用域。如果同一个函数在不同时间运行，其作用域是独立的。不同的函数也可以具有相同的参数名，其作用域也是独立的。\n",
    "代码实例如下："
   ],
   "metadata": {
    "collapsed": false
   }
  },
  {
   "cell_type": "code",
   "execution_count": 15,
   "outputs": [
    {
     "name": "stdout",
     "output_type": "stream",
     "text": [
      "全局作用域a: external\n",
      "函数内a: 3\n",
      "全局作用域a： external\n"
     ]
    }
   ],
   "source": [
    "def my_fun():\n",
    "    a = 0\n",
    "    a += 3\n",
    "    print('函数内a:',a)\n",
    "\n",
    "a = 'external' #函数外赋值a\n",
    "print('全局作用域a:',a)\n",
    "my_fun()\n",
    "print('全局作用域a：',a)"
   ],
   "metadata": {
    "collapsed": false
   }
  },
  {
   "cell_type": "markdown",
   "source": [
    "##### 使用匿名函数\n",
    "python 使用 lambda 来创建匿名函数。\n",
    "所谓匿名，意即不在使用 def 语句这样的标准的形式定义一个函数。\n",
    "- lambda 只是一个表达式，函数体比def 简单得多。\n",
    "- lambda 的主体是一个表达式，而不是一个代码块。仅仅能在 lambda 表达式中封装有限的逻辑进去。\n",
    "- lambda 函数拥有自己的命名空间，且不能访问自己的参数列表之外或全局命名空间里的参数。\n",
    "- 虽然 lambda 函数看起来只能写一行，却不等同于C或C++的内联函数，后者的目的是调用小函数时不占用栈内存从而增加运行效率。\n"
   ],
   "metadata": {
    "collapsed": false
   }
  },
  {
   "cell_type": "markdown",
   "source": [
    "lambda 来源于 LISP 语言，其语法格式如下：\n",
    "```\n",
    "lambda[arg1 [,arg2,......,argn]]:expression\n",
    "```\n",
    "代码实例如下："
   ],
   "metadata": {
    "collapsed": false
   }
  },
  {
   "cell_type": "code",
   "execution_count": 17,
   "outputs": [
    {
     "name": "stdout",
     "output_type": "stream",
     "text": [
      "想加后的值为： 30\n",
      "相加后的值为： 40\n"
     ]
    }
   ],
   "source": [
    "sum = lambda arg1,arg2: arg1 + arg2\n",
    "\n",
    "#调用sum函数\n",
    "print(\"想加后的值为：\",sum(10,20))\n",
    "print(\"相加后的值为：\",sum(20,20))"
   ],
   "metadata": {
    "collapsed": false
   }
  },
  {
   "cell_type": "markdown",
   "source": [
    "##### return 语句\n",
    "return[表达式] 语句用于退出函数，选择性地向调用方返回一个表达式。不带参数值的 return 语句返回 None。之前的例子都没有示范如何返回数值，以下案例演示了 return 语句的用法："
   ],
   "metadata": {
    "collapsed": false
   }
  },
  {
   "cell_type": "code",
   "execution_count": 18,
   "outputs": [
    {
     "name": "stdout",
     "output_type": "stream",
     "text": [
      "函数内： 30\n",
      "函数外： 30\n"
     ]
    }
   ],
   "source": [
    "def sum(arg1,arg2):\n",
    "    total = arg1 + arg2\n",
    "    print(\"函数内：\", total)\n",
    "    return total\n",
    "\n",
    "total = sum(10,20)\n",
    "print(\"函数外：\",total)"
   ],
   "metadata": {
    "collapsed": false
   }
  },
  {
   "cell_type": "code",
   "execution_count": null,
   "outputs": [],
   "source": [],
   "metadata": {
    "collapsed": false
   }
  }
 ],
 "metadata": {
  "kernelspec": {
   "display_name": "Python 3",
   "language": "python",
   "name": "python3"
  },
  "language_info": {
   "codemirror_mode": {
    "name": "ipython",
    "version": 3
   },
   "file_extension": ".py",
   "mimetype": "text/x-python",
   "name": "python",
   "nbconvert_exporter": "python",
   "pygments_lexer": "ipython3",
   "version": "3.8.8"
  }
 },
 "nbformat": 4,
 "nbformat_minor": 1
}
